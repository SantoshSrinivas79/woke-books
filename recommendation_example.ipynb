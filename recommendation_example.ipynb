{
 "cells": [
  {
   "cell_type": "code",
   "execution_count": 1,
   "metadata": {
    "collapsed": true
   },
   "outputs": [],
   "source": [
    "from make_recommendation import UserRecs\n",
    "import os"
   ]
  },
  {
   "cell_type": "code",
   "execution_count": 2,
   "metadata": {
    "collapsed": true
   },
   "outputs": [],
   "source": [
    "api_key = os.environ['GOODREADS_API_KEY']\n",
    "\n",
    "Moses = 8683925"
   ]
  },
  {
   "cell_type": "markdown",
   "metadata": {},
   "source": [
    "### Initiate and fit recommendation class for Moses"
   ]
  },
  {
   "cell_type": "code",
   "execution_count": 3,
   "metadata": {
    "collapsed": true
   },
   "outputs": [],
   "source": [
    "recs = UserRecs()\n",
    "recs.fit(Moses, api_key)"
   ]
  },
  {
   "cell_type": "markdown",
   "metadata": {},
   "source": [
    "### Plot the data to see what authors are underrepresented in the user's reading"
   ]
  },
  {
   "cell_type": "code",
   "execution_count": 4,
   "metadata": {},
   "outputs": [
    {
     "name": "stdout",
     "output_type": "stream",
     "text": [
      "177 out of 223 books that you have read are in the top 10,000 books on goodreads\n"
     ]
    },
    {
     "data": {
      "image/png": "[encoded data removed]",
      "text/plain": [
       "<matplotlib.figure.Figure at 0x110dcd710>"
      ]
     },
     "metadata": {},
     "output_type": "display_data"
    }
   ],
   "source": [
    "recs.plot_user_data()"
   ]
  },
  {
   "cell_type": "markdown",
   "metadata": {},
   "source": [
    "### Print out top recommendations for this user"
   ]
  },
  {
   "cell_type": "code",
   "execution_count": 5,
   "metadata": {},
   "outputs": [
    {
     "data": {
      "text/html": [
       "<div>\n",
       "<style>\n",
       "    .dataframe thead tr:only-child th {\n",
       "        text-align: right;\n",
       "    }\n",
       "\n",
       "    .dataframe thead th {\n",
       "        text-align: left;\n",
       "    }\n",
       "\n",
       "    .dataframe tbody tr th {\n",
       "        vertical-align: top;\n",
       "    }\n",
       "</style>\n",
       "<table border=\"1\" class=\"dataframe\">\n",
       "  <thead>\n",
       "    <tr style=\"text-align: right;\">\n",
       "      <th></th>\n",
       "      <th>title</th>\n",
       "      <th>name</th>\n",
       "      <th>race_gender</th>\n",
       "    </tr>\n",
       "  </thead>\n",
       "  <tbody>\n",
       "    <tr>\n",
       "      <th>501</th>\n",
       "      <td>Cane River</td>\n",
       "      <td>Lalita Tademy</td>\n",
       "      <td>ASIAN FEMALE</td>\n",
       "    </tr>\n",
       "    <tr>\n",
       "      <th>441</th>\n",
       "      <td>Breath, Eyes, Memory</td>\n",
       "      <td>Edwidge Danticat</td>\n",
       "      <td>LATINO FEMALE</td>\n",
       "    </tr>\n",
       "    <tr>\n",
       "      <th>7</th>\n",
       "      <td>Fullmetal Alchemist, Vol. 1 (Fullmetal Alchemi...</td>\n",
       "      <td>Hiromu Arakawa</td>\n",
       "      <td>ASIAN FEMALE</td>\n",
       "    </tr>\n",
       "    <tr>\n",
       "      <th>195</th>\n",
       "      <td>Love in the Time of Cholera</td>\n",
       "      <td>Gabriel García Márquez</td>\n",
       "      <td>LATINO MALE</td>\n",
       "    </tr>\n",
       "    <tr>\n",
       "      <th>663</th>\n",
       "      <td>Beloved</td>\n",
       "      <td>Toni Morrison</td>\n",
       "      <td>BLACK FEMALE</td>\n",
       "    </tr>\n",
       "    <tr>\n",
       "      <th>24</th>\n",
       "      <td>The Autograph Man</td>\n",
       "      <td>Zadie Smith</td>\n",
       "      <td>BLACK FEMALE</td>\n",
       "    </tr>\n",
       "    <tr>\n",
       "      <th>652</th>\n",
       "      <td>Interpreter of Maladies</td>\n",
       "      <td>Jhumpa Lahiri</td>\n",
       "      <td>ASIAN FEMALE</td>\n",
       "    </tr>\n",
       "    <tr>\n",
       "      <th>227</th>\n",
       "      <td>First They Killed My Father: A Daughter of Cam...</td>\n",
       "      <td>Loung Ung</td>\n",
       "      <td>ASIAN FEMALE</td>\n",
       "    </tr>\n",
       "    <tr>\n",
       "      <th>262</th>\n",
       "      <td>The Atonement Child</td>\n",
       "      <td>Francine Rivers</td>\n",
       "      <td>WHITE FEMALE</td>\n",
       "    </tr>\n",
       "    <tr>\n",
       "      <th>469</th>\n",
       "      <td>The Known World</td>\n",
       "      <td>Edward P. Jones</td>\n",
       "      <td>BLACK MALE</td>\n",
       "    </tr>\n",
       "  </tbody>\n",
       "</table>\n",
       "</div>"
      ],
      "text/plain": [
       "                                                 title  \\\n",
       "501                                         Cane River   \n",
       "441                               Breath, Eyes, Memory   \n",
       "7    Fullmetal Alchemist, Vol. 1 (Fullmetal Alchemi...   \n",
       "195                        Love in the Time of Cholera   \n",
       "663                                            Beloved   \n",
       "24                                   The Autograph Man   \n",
       "652                            Interpreter of Maladies   \n",
       "227  First They Killed My Father: A Daughter of Cam...   \n",
       "262                                The Atonement Child   \n",
       "469                                    The Known World   \n",
       "\n",
       "                       name    race_gender  \n",
       "501           Lalita Tademy   ASIAN FEMALE  \n",
       "441        Edwidge Danticat  LATINO FEMALE  \n",
       "7            Hiromu Arakawa   ASIAN FEMALE  \n",
       "195  Gabriel García Márquez    LATINO MALE  \n",
       "663           Toni Morrison   BLACK FEMALE  \n",
       "24              Zadie Smith   BLACK FEMALE  \n",
       "652           Jhumpa Lahiri   ASIAN FEMALE  \n",
       "227               Loung Ung   ASIAN FEMALE  \n",
       "262         Francine Rivers   WHITE FEMALE  \n",
       "469         Edward P. Jones     BLACK MALE  "
      ]
     },
     "execution_count": 5,
     "metadata": {},
     "output_type": "execute_result"
    }
   ],
   "source": [
    "recs.df_recommendations[['title', 'name', 'race_gender']].head(10)"
   ]
  },
  {
   "cell_type": "markdown",
   "metadata": {},
   "source": [
    "### Show top recommendations for the categories this user reads the most"
   ]
  },
  {
   "cell_type": "code",
   "execution_count": 6,
   "metadata": {},
   "outputs": [
    {
     "name": "stdout",
     "output_type": "stream",
     "text": [
      "============================================================\n",
      "Collections\n",
      "['Interpreter of Maladies', 'The Stories of Eva Luna', 'Haroun and the Sea of Stories (Khalifa Brothers, #1)', 'La Dame aux Camélias', 'The Snows of Kilimanjaro and Other Stories', 'Barrel Fever: Stories and Essays', 'Brokeback Mountain', 'Oblivion', 'Selected Stories', 'A Christmas Carol and Other Christmas Writings']\n",
      "============================================================\n",
      "Graphic Novels\n",
      "['Fullmetal Alchemist, Vol. 1 (Fullmetal Alchemist, #1)', 'Bleach, Volume 01', 'V for Vendetta', 'Superman: Birthright', 'Pride and Joy (Runaways, #1)']\n",
      "============================================================\n",
      "Required Reading\n",
      "['Breath, Eyes, Memory', 'Love in the Time of Cholera', 'Beloved', 'First They Killed My Father: A Daughter of Cambodia Remembers', 'The Atonement Child', 'The Known World', 'Memories of My Melancholy Whores', 'On Beauty', 'Tara Road', 'A Map of the World']\n",
      "============================================================\n",
      "Suspense\n",
      "[\"From Potter's Field (Kay Scarpetta, #6)\", 'Pardonable Lies (Maisie Dobbs, #3)', 'Carter Beats the Devil', 'Cause of Death (Kay Scarpetta, #7)', 'City of the Beasts (Eagle and Jaguar, #1)', 'Messenger of Truth (Maisie Dobbs, #4)', 'Book of the Dead (Kay Scarpetta, #15)', 'Special Topics in Calamity Physics', 'Point of Origin (Kay Scarpetta, #9)', 'Prophet']\n",
      "============================================================\n",
      "Classics\n",
      "['The Woman in the Dunes', 'Don Quixote', 'Macbeth', 'A Modest Proposal and Other Satirical Works', 'The Oresteia  (Ορέστεια, #1-3)', 'Antigone (The Theban Plays, #3)', 'The Brothers Karamazov', 'The Broken Wings', 'Pale Fire', 'Oedipus Rex  (The Theban Plays, #1)']\n",
      "============================================================\n",
      "Top Recommendations not in Your Top Categories\n",
      "['Cane River', 'The Autograph Man', 'Assassination Vacation', 'Harry Potter and the Order of the Phoenix (Harry Potter, #5)', 'Jesus Freaks: Stories of Those Who Stood for Jesus, the Ultimate Jesus Freaks (Jesus Freaks, #1)', 'Hard Eight (Stephanie Plum, #8)', 'Harry Potter and the Half-Blood Prince (Harry Potter, #6)', 'Deerskin', 'Everyday Italian: 125 Simple and Delicious Recipes', \"A People's History of the United States\"]\n",
      "============================================================\n"
     ]
    }
   ],
   "source": [
    "recs.print_categorical_recs(10)"
   ]
  },
  {
   "cell_type": "markdown",
   "metadata": {
    "collapsed": true
   },
   "source": [
    "### Recommendations without boosting"
   ]
  },
  {
   "cell_type": "code",
   "execution_count": 7,
   "metadata": {},
   "outputs": [
    {
     "data": {
      "text/html": [
       "<div>\n",
       "<style>\n",
       "    .dataframe thead tr:only-child th {\n",
       "        text-align: right;\n",
       "    }\n",
       "\n",
       "    .dataframe thead th {\n",
       "        text-align: left;\n",
       "    }\n",
       "\n",
       "    .dataframe tbody tr th {\n",
       "        vertical-align: top;\n",
       "    }\n",
       "</style>\n",
       "<table border=\"1\" class=\"dataframe\">\n",
       "  <thead>\n",
       "    <tr style=\"text-align: right;\">\n",
       "      <th></th>\n",
       "      <th>title</th>\n",
       "      <th>name</th>\n",
       "      <th>race_gender</th>\n",
       "    </tr>\n",
       "  </thead>\n",
       "  <tbody>\n",
       "    <tr>\n",
       "      <th>264</th>\n",
       "      <td>The Fellowship of the Ring (The Lord of the Ri...</td>\n",
       "      <td>J.R.R. Tolkien</td>\n",
       "      <td>WHITE MALE</td>\n",
       "    </tr>\n",
       "    <tr>\n",
       "      <th>198</th>\n",
       "      <td>Harry Potter and the Sorcerer's Stone (Harry P...</td>\n",
       "      <td>J.K. Rowling</td>\n",
       "      <td>WHITE FEMALE</td>\n",
       "    </tr>\n",
       "    <tr>\n",
       "      <th>338</th>\n",
       "      <td>Gravity's Rainbow</td>\n",
       "      <td>Thomas Pynchon</td>\n",
       "      <td>WHITE MALE</td>\n",
       "    </tr>\n",
       "    <tr>\n",
       "      <th>688</th>\n",
       "      <td>Shadows of the Empire (Star Wars)</td>\n",
       "      <td>Steve Perry</td>\n",
       "      <td>WHITE MALE</td>\n",
       "    </tr>\n",
       "    <tr>\n",
       "      <th>42</th>\n",
       "      <td>The Woman in White</td>\n",
       "      <td>Wilkie Collins</td>\n",
       "      <td>WHITE MALE</td>\n",
       "    </tr>\n",
       "    <tr>\n",
       "      <th>58</th>\n",
       "      <td>Vampire Mountain (Cirque Du Freak, #4)</td>\n",
       "      <td>Darren Shan</td>\n",
       "      <td>WHITE MALE</td>\n",
       "    </tr>\n",
       "    <tr>\n",
       "      <th>333</th>\n",
       "      <td>Chapterhouse: Dune (Dune Chronicles #6)</td>\n",
       "      <td>Frank Herbert</td>\n",
       "      <td>WHITE MALE</td>\n",
       "    </tr>\n",
       "    <tr>\n",
       "      <th>661</th>\n",
       "      <td>Fight Club</td>\n",
       "      <td>Chuck Palahniuk</td>\n",
       "      <td>WHITE MALE</td>\n",
       "    </tr>\n",
       "    <tr>\n",
       "      <th>291</th>\n",
       "      <td>World Without End (Kingsbridge, #2)</td>\n",
       "      <td>Ken Follett</td>\n",
       "      <td>WHITE MALE</td>\n",
       "    </tr>\n",
       "    <tr>\n",
       "      <th>357</th>\n",
       "      <td>Salt: A World History</td>\n",
       "      <td>Mark Kurlansky</td>\n",
       "      <td>WHITE MALE</td>\n",
       "    </tr>\n",
       "  </tbody>\n",
       "</table>\n",
       "</div>"
      ],
      "text/plain": [
       "                                                 title             name  \\\n",
       "264  The Fellowship of the Ring (The Lord of the Ri...   J.R.R. Tolkien   \n",
       "198  Harry Potter and the Sorcerer's Stone (Harry P...     J.K. Rowling   \n",
       "338                                  Gravity's Rainbow   Thomas Pynchon   \n",
       "688                  Shadows of the Empire (Star Wars)      Steve Perry   \n",
       "42                                  The Woman in White   Wilkie Collins   \n",
       "58              Vampire Mountain (Cirque Du Freak, #4)      Darren Shan   \n",
       "333            Chapterhouse: Dune (Dune Chronicles #6)    Frank Herbert   \n",
       "661                                         Fight Club  Chuck Palahniuk   \n",
       "291                World Without End (Kingsbridge, #2)      Ken Follett   \n",
       "357                              Salt: A World History   Mark Kurlansky   \n",
       "\n",
       "      race_gender  \n",
       "264    WHITE MALE  \n",
       "198  WHITE FEMALE  \n",
       "338    WHITE MALE  \n",
       "688    WHITE MALE  \n",
       "42     WHITE MALE  \n",
       "58     WHITE MALE  \n",
       "333    WHITE MALE  \n",
       "661    WHITE MALE  \n",
       "291    WHITE MALE  \n",
       "357    WHITE MALE  "
      ]
     },
     "execution_count": 7,
     "metadata": {},
     "output_type": "execute_result"
    }
   ],
   "source": [
    "recs.df_recommendations.sort_values('rating_guess')[['title', 'name', 'race_gender']].head(10)"
   ]
  },
  {
   "cell_type": "code",
   "execution_count": null,
   "metadata": {
    "collapsed": true
   },
   "outputs": [],
   "source": []
  }
 ],
 "metadata": {
  "kernelspec": {
   "display_name": "Python 3",
   "language": "python",
   "name": "python3"
  },
  "language_info": {
   "codemirror_mode": {
    "name": "ipython",
    "version": 3
   },
   "file_extension": ".py",
   "mimetype": "text/x-python",
   "name": "python",
   "nbconvert_exporter": "python",
   "pygments_lexer": "ipython3",
   "version": "3.6.3"
  }
 },
 "nbformat": 4,
 "nbformat_minor": 2
}
