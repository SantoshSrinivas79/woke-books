{
 "cells": [
  {
   "cell_type": "code",
   "execution_count": 1,
   "metadata": {
    "collapsed": true
   },
   "outputs": [],
   "source": [
    "from make_recommendation import UserRecs\n",
    "import os"
   ]
  },
  {
   "cell_type": "code",
   "execution_count": 2,
   "metadata": {
    "collapsed": true
   },
   "outputs": [],
   "source": [
    "api_key = os.environ['GOODREADS_API_KEY']\n",
    "\n",
    "Moses = 8683925"
   ]
  },
  {
   "cell_type": "markdown",
   "metadata": {},
   "source": [
    "### Fit recommendations for our example user\n",
    "Using an api key and a goodread user ID, the recommender gets the users rated books on goodreads and uses the books a user has rated in the top 10,000 books the recommender was trained on."
   ]
  },
  {
   "cell_type": "code",
   "execution_count": 3,
   "metadata": {
    "collapsed": true
   },
   "outputs": [],
   "source": [
    "recs = UserRecs()\n",
    "recs.fit(Moses, api_key)"
   ]
  },
  {
   "cell_type": "markdown",
   "metadata": {},
   "source": [
    "### Unboosted Ratings Guess\n",
    "If we only look at the recommendations based on the results of gradient descent on the book matrix and the user's rating we get these recommendations."
   ]
  },
  {
   "cell_type": "code",
   "execution_count": 4,
   "metadata": {},
   "outputs": [
    {
     "data": {
      "text/html": [
       "<div>\n",
       "<style>\n",
       "    .dataframe thead tr:only-child th {\n",
       "        text-align: right;\n",
       "    }\n",
       "\n",
       "    .dataframe thead th {\n",
       "        text-align: left;\n",
       "    }\n",
       "\n",
       "    .dataframe tbody tr th {\n",
       "        vertical-align: top;\n",
       "    }\n",
       "</style>\n",
       "<table border=\"1\" class=\"dataframe\">\n",
       "  <thead>\n",
       "    <tr style=\"text-align: right;\">\n",
       "      <th></th>\n",
       "      <th>title</th>\n",
       "      <th>name</th>\n",
       "      <th>race_gender</th>\n",
       "    </tr>\n",
       "  </thead>\n",
       "  <tbody>\n",
       "    <tr>\n",
       "      <th>264</th>\n",
       "      <td>The Fellowship of the Ring (The Lord of the Ri...</td>\n",
       "      <td>J.R.R. Tolkien</td>\n",
       "      <td>WHITE MALE</td>\n",
       "    </tr>\n",
       "    <tr>\n",
       "      <th>198</th>\n",
       "      <td>Harry Potter and the Sorcerer's Stone (Harry P...</td>\n",
       "      <td>J.K. Rowling</td>\n",
       "      <td>WHITE FEMALE</td>\n",
       "    </tr>\n",
       "    <tr>\n",
       "      <th>42</th>\n",
       "      <td>The Woman in White</td>\n",
       "      <td>Wilkie Collins</td>\n",
       "      <td>WHITE MALE</td>\n",
       "    </tr>\n",
       "    <tr>\n",
       "      <th>688</th>\n",
       "      <td>Shadows of the Empire (Star Wars)</td>\n",
       "      <td>Steve Perry</td>\n",
       "      <td>WHITE MALE</td>\n",
       "    </tr>\n",
       "    <tr>\n",
       "      <th>58</th>\n",
       "      <td>Vampire Mountain (Cirque Du Freak, #4)</td>\n",
       "      <td>Darren Shan</td>\n",
       "      <td>WHITE MALE</td>\n",
       "    </tr>\n",
       "    <tr>\n",
       "      <th>333</th>\n",
       "      <td>Chapterhouse: Dune (Dune Chronicles #6)</td>\n",
       "      <td>Frank Herbert</td>\n",
       "      <td>WHITE MALE</td>\n",
       "    </tr>\n",
       "    <tr>\n",
       "      <th>338</th>\n",
       "      <td>Gravity's Rainbow</td>\n",
       "      <td>Thomas Pynchon</td>\n",
       "      <td>WHITE MALE</td>\n",
       "    </tr>\n",
       "    <tr>\n",
       "      <th>661</th>\n",
       "      <td>Fight Club</td>\n",
       "      <td>Chuck Palahniuk</td>\n",
       "      <td>WHITE MALE</td>\n",
       "    </tr>\n",
       "    <tr>\n",
       "      <th>291</th>\n",
       "      <td>World Without End (Kingsbridge, #2)</td>\n",
       "      <td>Ken Follett</td>\n",
       "      <td>WHITE MALE</td>\n",
       "    </tr>\n",
       "    <tr>\n",
       "      <th>82</th>\n",
       "      <td>Sherlock Holmes: The Complete Novels and Stori...</td>\n",
       "      <td>Arthur Conan Doyle</td>\n",
       "      <td>WHITE MALE</td>\n",
       "    </tr>\n",
       "  </tbody>\n",
       "</table>\n",
       "</div>"
      ],
      "text/plain": [
       "                                                 title                name  \\\n",
       "264  The Fellowship of the Ring (The Lord of the Ri...      J.R.R. Tolkien   \n",
       "198  Harry Potter and the Sorcerer's Stone (Harry P...        J.K. Rowling   \n",
       "42                                  The Woman in White      Wilkie Collins   \n",
       "688                  Shadows of the Empire (Star Wars)         Steve Perry   \n",
       "58              Vampire Mountain (Cirque Du Freak, #4)         Darren Shan   \n",
       "333            Chapterhouse: Dune (Dune Chronicles #6)       Frank Herbert   \n",
       "338                                  Gravity's Rainbow      Thomas Pynchon   \n",
       "661                                         Fight Club     Chuck Palahniuk   \n",
       "291                World Without End (Kingsbridge, #2)         Ken Follett   \n",
       "82   Sherlock Holmes: The Complete Novels and Stori...  Arthur Conan Doyle   \n",
       "\n",
       "      race_gender  \n",
       "264    WHITE MALE  \n",
       "198  WHITE FEMALE  \n",
       "42     WHITE MALE  \n",
       "688    WHITE MALE  \n",
       "58     WHITE MALE  \n",
       "333    WHITE MALE  \n",
       "338    WHITE MALE  \n",
       "661    WHITE MALE  \n",
       "291    WHITE MALE  \n",
       "82     WHITE MALE  "
      ]
     },
     "execution_count": 4,
     "metadata": {},
     "output_type": "execute_result"
    }
   ],
   "source": [
    "recs.df_recommendations.sort_values('rating_guess')[['title', 'name', 'race_gender']].head(10)"
   ]
  },
  {
   "cell_type": "markdown",
   "metadata": {},
   "source": [
    "### Plot the data to see what authors are underrepresented in the user's reading\n",
    "We can see this user reads mainly white male authors and is mainly recommended more books by white male authors. We use the percentages this user has read of each author group to create a boost for each author. For this user, it would add close to 0 to the ratings guess for white male authors and closer to 1 for the black female authors."
   ]
  },
  {
   "cell_type": "code",
   "execution_count": 5,
   "metadata": {},
   "outputs": [
    {
     "name": "stdout",
     "output_type": "stream",
     "text": [
      "177 out of 223 books that you have read are in the top 10,000 books on goodreads\n"
     ]
    },
    {
     "data": {
      "image/png": "[encoded data removed]",
      "text/plain": [
       "<matplotlib.figure.Figure at 0x112f00b50>"
      ]
     },
     "metadata": {},
     "output_type": "display_data"
    }
   ],
   "source": [
    "recs.plot_user_data()"
   ]
  },
  {
   "cell_type": "markdown",
   "metadata": {},
   "source": [
    "### Show boosted recommendations for this user\n",
    "After boosting scores for this user, we have more novel results that the user might not have discovered otherwise."
   ]
  },
  {
   "cell_type": "code",
   "execution_count": 6,
   "metadata": {},
   "outputs": [
    {
     "data": {
      "text/html": [
       "<div>\n",
       "<style>\n",
       "    .dataframe thead tr:only-child th {\n",
       "        text-align: right;\n",
       "    }\n",
       "\n",
       "    .dataframe thead th {\n",
       "        text-align: left;\n",
       "    }\n",
       "\n",
       "    .dataframe tbody tr th {\n",
       "        vertical-align: top;\n",
       "    }\n",
       "</style>\n",
       "<table border=\"1\" class=\"dataframe\">\n",
       "  <thead>\n",
       "    <tr style=\"text-align: right;\">\n",
       "      <th></th>\n",
       "      <th>title</th>\n",
       "      <th>name</th>\n",
       "      <th>race_gender</th>\n",
       "    </tr>\n",
       "  </thead>\n",
       "  <tbody>\n",
       "    <tr>\n",
       "      <th>501</th>\n",
       "      <td>Cane River</td>\n",
       "      <td>Lalita Tademy</td>\n",
       "      <td>ASIAN FEMALE</td>\n",
       "    </tr>\n",
       "    <tr>\n",
       "      <th>441</th>\n",
       "      <td>Breath, Eyes, Memory</td>\n",
       "      <td>Edwidge Danticat</td>\n",
       "      <td>LATINO FEMALE</td>\n",
       "    </tr>\n",
       "    <tr>\n",
       "      <th>195</th>\n",
       "      <td>Love in the Time of Cholera</td>\n",
       "      <td>Gabriel García Márquez</td>\n",
       "      <td>LATINO MALE</td>\n",
       "    </tr>\n",
       "    <tr>\n",
       "      <th>7</th>\n",
       "      <td>Fullmetal Alchemist, Vol. 1 (Fullmetal Alchemi...</td>\n",
       "      <td>Hiromu Arakawa</td>\n",
       "      <td>ASIAN FEMALE</td>\n",
       "    </tr>\n",
       "    <tr>\n",
       "      <th>663</th>\n",
       "      <td>Beloved</td>\n",
       "      <td>Toni Morrison</td>\n",
       "      <td>BLACK FEMALE</td>\n",
       "    </tr>\n",
       "    <tr>\n",
       "      <th>24</th>\n",
       "      <td>The Autograph Man</td>\n",
       "      <td>Zadie Smith</td>\n",
       "      <td>BLACK FEMALE</td>\n",
       "    </tr>\n",
       "    <tr>\n",
       "      <th>652</th>\n",
       "      <td>Interpreter of Maladies</td>\n",
       "      <td>Jhumpa Lahiri</td>\n",
       "      <td>ASIAN FEMALE</td>\n",
       "    </tr>\n",
       "    <tr>\n",
       "      <th>262</th>\n",
       "      <td>The Atonement Child</td>\n",
       "      <td>Francine Rivers</td>\n",
       "      <td>WHITE FEMALE</td>\n",
       "    </tr>\n",
       "    <tr>\n",
       "      <th>227</th>\n",
       "      <td>First They Killed My Father: A Daughter of Cam...</td>\n",
       "      <td>Loung Ung</td>\n",
       "      <td>ASIAN FEMALE</td>\n",
       "    </tr>\n",
       "    <tr>\n",
       "      <th>469</th>\n",
       "      <td>The Known World</td>\n",
       "      <td>Edward P. Jones</td>\n",
       "      <td>BLACK MALE</td>\n",
       "    </tr>\n",
       "  </tbody>\n",
       "</table>\n",
       "</div>"
      ],
      "text/plain": [
       "                                                 title  \\\n",
       "501                                         Cane River   \n",
       "441                               Breath, Eyes, Memory   \n",
       "195                        Love in the Time of Cholera   \n",
       "7    Fullmetal Alchemist, Vol. 1 (Fullmetal Alchemi...   \n",
       "663                                            Beloved   \n",
       "24                                   The Autograph Man   \n",
       "652                            Interpreter of Maladies   \n",
       "262                                The Atonement Child   \n",
       "227  First They Killed My Father: A Daughter of Cam...   \n",
       "469                                    The Known World   \n",
       "\n",
       "                       name    race_gender  \n",
       "501           Lalita Tademy   ASIAN FEMALE  \n",
       "441        Edwidge Danticat  LATINO FEMALE  \n",
       "195  Gabriel García Márquez    LATINO MALE  \n",
       "7            Hiromu Arakawa   ASIAN FEMALE  \n",
       "663           Toni Morrison   BLACK FEMALE  \n",
       "24              Zadie Smith   BLACK FEMALE  \n",
       "652           Jhumpa Lahiri   ASIAN FEMALE  \n",
       "262         Francine Rivers   WHITE FEMALE  \n",
       "227               Loung Ung   ASIAN FEMALE  \n",
       "469         Edward P. Jones     BLACK MALE  "
      ]
     },
     "execution_count": 6,
     "metadata": {},
     "output_type": "execute_result"
    }
   ],
   "source": [
    "recs.df_recommendations[['title', 'name', 'race_gender']].head(10)"
   ]
  },
  {
   "cell_type": "markdown",
   "metadata": {},
   "source": [
    "### Show top recommendations for the categories this user reads the most\n",
    "We also can find the top 5 categories that a user has read the largest percentage of and present the top results for those categories."
   ]
  },
  {
   "cell_type": "code",
   "execution_count": 7,
   "metadata": {},
   "outputs": [
    {
     "name": "stdout",
     "output_type": "stream",
     "text": [
      "============================================================\n",
      "Collections\n",
      "[u'Interpreter of Maladies', u'The Stories of Eva Luna', u'Haroun and the Sea of Stories (Khalifa Brothers, #1)', u'La Dame aux Cam\\xe9lias', u'The Snows of Kilimanjaro and Other Stories', u'Barrel Fever: Stories and Essays', u'Brokeback Mountain', u'Oblivion', u'Selected Stories', u'A Christmas Carol and Other Christmas Writings']\n",
      "============================================================\n",
      "Graphic Novels\n",
      "[u'Fullmetal Alchemist, Vol. 1 (Fullmetal Alchemist, #1)', u'Bleach, Volume 01', u'V for Vendetta', u'Superman: Birthright', u'Pride and Joy (Runaways, #1)']\n",
      "============================================================\n",
      "Required Reading\n",
      "[u'Breath, Eyes, Memory', u'Love in the Time of Cholera', u'Beloved', u'The Atonement Child', u'First They Killed My Father: A Daughter of Cambodia Remembers', u'The Known World', u'Memories of My Melancholy Whores', u'Tara Road', u'On Beauty', u'The Hungry Tide']\n",
      "============================================================\n",
      "Suspense\n",
      "[u\"From Potter's Field (Kay Scarpetta, #6)\", u'Pardonable Lies (Maisie Dobbs, #3)', u'Carter Beats the Devil', u'Cause of Death (Kay Scarpetta, #7)', u'City of the Beasts (Eagle and Jaguar, #1)', u'Messenger of Truth (Maisie Dobbs, #4)', u'Book of the Dead (Kay Scarpetta, #15)', u'Point of Origin (Kay Scarpetta, #9)', u'Special Topics in Calamity Physics', u'Prophet']\n",
      "============================================================\n",
      "Classics\n",
      "[u'The Woman in the Dunes', u'Don Quixote', u'The Brothers Karamazov', u'Macbeth', u'A Modest Proposal and Other Satirical Works', u'The Oresteia  (\\u039f\\u03c1\\u03ad\\u03c3\\u03c4\\u03b5\\u03b9\\u03b1, #1-3)', u'Antigone (The Theban Plays, #3)', u'The Broken Wings', u'Pale Fire', u'Oedipus Rex  (The Theban Plays, #1)']\n",
      "============================================================\n",
      "Top Recommendations not in Your Top Categories\n",
      "[u'Cane River', u'The Autograph Man', u'Assassination Vacation', u'Harry Potter and the Order of the Phoenix (Harry Potter, #5)', u'Hard Eight (Stephanie Plum, #8)', u'Jesus Freaks: Stories of Those Who Stood for Jesus, the Ultimate Jesus Freaks (Jesus Freaks, #1)', u'Harry Potter and the Half-Blood Prince (Harry Potter, #6)', u'Deerskin', u'Everyday Italian: 125 Simple and Delicious Recipes', u\"A People's History of the United States\"]\n",
      "============================================================\n"
     ]
    }
   ],
   "source": [
    "recs.print_categorical_recs(10)"
   ]
  },
  {
   "cell_type": "code",
   "execution_count": null,
   "metadata": {
    "collapsed": true
   },
   "outputs": [],
   "source": []
  }
 ],
 "metadata": {
  "kernelspec": {
   "display_name": "Python 2",
   "language": "python",
   "name": "python2"
  },
  "language_info": {
   "codemirror_mode": {
    "name": "ipython",
    "version": 2
   },
   "file_extension": ".py",
   "mimetype": "text/x-python",
   "name": "python",
   "nbconvert_exporter": "python",
   "pygments_lexer": "ipython2",
   "version": "2.7.13"
  }
 },
 "nbformat": 4,
 "nbformat_minor": 2
}
